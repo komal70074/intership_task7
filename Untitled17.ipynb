{
 "cells": [
  {
   "cell_type": "code",
   "execution_count": 1,
   "id": "d897dc63-31fc-4bd1-b2ad-579eeb2f499f",
   "metadata": {},
   "outputs": [],
   "source": [
    "import sqlite3\n",
    "\n",
    "conn=sqlite3.connect(\"sales_data\")\n",
    "cursor=conn.cursor()\n",
    "cursor.execute('''\n",
    "CREATE TABLE IF NOT EXISTS sales_data (\n",
    "    sale_id INTEGER PRIMARY KEY,\n",
    "    date TEXT,\n",
    "    product TEXT,\n",
    "    quantity INTEGER,\n",
    "    price REAL \n",
    "    )\n",
    "    ''')\n",
    "conn.commit()"
   ]
  },
  {
   "cell_type": "code",
   "execution_count": 2,
   "id": "d964c6eb-cb03-4885-850d-244e1ba20e14",
   "metadata": {},
   "outputs": [],
   "source": [
    "s_data=[\n",
    "    ('2023-04-23','Laptop',3,30000),\n",
    "    ('2023-04-03','Monitor',7,20000),\n",
    "     ('2023-09-20','Keyboard',9,30000),\n",
    "    ('2023-07-21','Tv',8,40000),\n",
    "    ('2023-01-26','Tablet',3,25000),\n",
    "     ('2023-09-20','Keyboard',3,30000),\n",
    "    ('2023-05-10','Tablet',5,25000),\n",
    "    ('2023-05-23','Laptop',8,35000),\n",
    "    ('2023-06-12','Monitor',9,20000),\n",
    "    ('2023-08-15','Tablet',2,25000),\n",
    "    ('2023-10-05','Laptop',3,35000),\n",
    "    ('2023-12-01','Tv',4,40000),\n",
    "    ('2023-11-226','Tablet',9,25000),\n",
    "    ('2023-03-15','Laptop',5,30000)\n",
    " ]\n",
    "\n",
    "cursor.executemany('''\n",
    "INSERT INTO sales_data(date,product,quantity,price)\n",
    "values(?,?,?,?)\n",
    "''',s_data)\n",
    "\n",
    "conn.commit()"
   ]
  },
  {
   "cell_type": "code",
   "execution_count": 3,
   "id": "cbc627b8-9c01-48af-a0c4-8f02e81aead0",
   "metadata": {},
   "outputs": [
    {
     "name": "stdout",
     "output_type": "stream",
     "text": [
      "    sale_id         date   product  quantity    price\n",
      "0         1   2023-04-23    Laptop         3  30000.0\n",
      "1         2   2023-04-03   Monitor         7  20000.0\n",
      "2         3   2023-05-10    Tablet         5  25000.0\n",
      "3         4   2023-05-23    Laptop         8  35000.0\n",
      "4         5   2023-09-20  Keyboard         3  30000.0\n",
      "5         6   2023-12-01        Tv         4  40000.0\n",
      "6         7  2023-11-226    Tablet         9  25000.0\n",
      "7         8   2023-03-15    Laptop         5  30000.0\n",
      "8         9   2023-06-12   Monitor         9  20000.0\n",
      "9        10   2023-08-15    Tablet         2  25000.0\n",
      "10       11   2023-10-05    Laptop         3  35000.0\n",
      "11       12   2023-09-20  Keyboard         9  30000.0\n",
      "12       13   2023-07-21        Tv         8  40000.0\n",
      "13       14   2023-01-26    Tablet         3  25000.0\n",
      "14       15   2023-04-23    Laptop         3  30000.0\n",
      "15       16   2023-04-03   Monitor         7  20000.0\n",
      "16       17   2023-09-20  Keyboard         9  30000.0\n",
      "17       18   2023-07-21        Tv         8  40000.0\n",
      "18       19   2023-01-26    Tablet         3  25000.0\n",
      "19       20   2023-09-20  Keyboard         3  30000.0\n",
      "20       21   2023-05-10    Tablet         5  25000.0\n",
      "21       22   2023-05-23    Laptop         8  35000.0\n",
      "22       23   2023-06-12   Monitor         9  20000.0\n",
      "23       24   2023-08-15    Tablet         2  25000.0\n",
      "24       25   2023-10-05    Laptop         3  35000.0\n",
      "25       26   2023-12-01        Tv         4  40000.0\n",
      "26       27  2023-11-226    Tablet         9  25000.0\n",
      "27       28   2023-03-15    Laptop         5  30000.0\n",
      "28       29   2023-04-23    Laptop         3  30000.0\n",
      "29       30   2023-04-03   Monitor         7  20000.0\n",
      "30       31   2023-09-20  Keyboard         9  30000.0\n",
      "31       32   2023-07-21        Tv         8  40000.0\n",
      "32       33   2023-01-26    Tablet         3  25000.0\n",
      "33       34   2023-09-20  Keyboard         3  30000.0\n",
      "34       35   2023-05-10    Tablet         5  25000.0\n",
      "35       36   2023-05-23    Laptop         8  35000.0\n",
      "36       37   2023-06-12   Monitor         9  20000.0\n",
      "37       38   2023-08-15    Tablet         2  25000.0\n",
      "38       39   2023-10-05    Laptop         3  35000.0\n",
      "39       40   2023-12-01        Tv         4  40000.0\n",
      "40       41  2023-11-226    Tablet         9  25000.0\n",
      "41       42   2023-03-15    Laptop         5  30000.0\n",
      "42       43   2023-04-23    Laptop         3  30000.0\n",
      "43       44   2023-04-03   Monitor         7  20000.0\n",
      "44       45   2023-09-20  Keyboard         9  30000.0\n",
      "45       46   2023-07-21        Tv         8  40000.0\n",
      "46       47   2023-01-26    Tablet         3  25000.0\n",
      "47       48   2023-09-20  Keyboard         3  30000.0\n",
      "48       49   2023-05-10    Tablet         5  25000.0\n",
      "49       50   2023-05-23    Laptop         8  35000.0\n",
      "50       51   2023-06-12   Monitor         9  20000.0\n",
      "51       52   2023-08-15    Tablet         2  25000.0\n",
      "52       53   2023-10-05    Laptop         3  35000.0\n",
      "53       54   2023-12-01        Tv         4  40000.0\n",
      "54       55  2023-11-226    Tablet         9  25000.0\n",
      "55       56   2023-03-15    Laptop         5  30000.0\n"
     ]
    }
   ],
   "source": [
    "import pandas as pd\n",
    "\n",
    "query1=\"select * from sales_data\"\n",
    "\n",
    "df=pd.read_sql(query1,conn)\n",
    "print(df)"
   ]
  },
  {
   "cell_type": "code",
   "execution_count": 7,
   "id": "1b66755b-3b11-4885-b1cb-9600fe93338f",
   "metadata": {},
   "outputs": [
    {
     "data": {
      "text/plain": [
       "<function matplotlib.pyplot.show(close=None, block=None)>"
      ]
     },
     "execution_count": 7,
     "metadata": {},
     "output_type": "execute_result"
    },
    {
     "data": {
      "image/png": "[encoded data removed]",
      "text/plain": [
       "<Figure size 640x480 with 1 Axes>"
      ]
     },
     "metadata": {},
     "output_type": "display_data"
    }
   ],
   "source": [
    "query1 ='''\n",
    "SELECT product, SUM(quantity) AS Total_Qty, SUM(quantity * price) AS\n",
    "Revenue FROM sales_data GROUP BY product\n",
    "'''\n",
    "summary_df=pd.read_sql(query1,conn)\n",
    "\n",
    "import matplotlib.pyplot as plt\n",
    "summary_df.plot(kind='bar', x='product', y='Revenue',title='Total Revenue by Product')\n",
    "plt.tight_layout()\n",
    "plt.show"
   ]
  },
  {
   "cell_type": "code",
   "execution_count": 8,
   "id": "8ebc2773-2ac0-4590-ae32-e591a04272a7",
   "metadata": {},
   "outputs": [
    {
     "data": {
      "text/plain": [
       "<Figure size 640x480 with 0 Axes>"
      ]
     },
     "metadata": {},
     "output_type": "display_data"
    }
   ],
   "source": [
    "plt.savefig(\"sales_chart.png\")"
   ]
  },
  {
   "cell_type": "code",
   "execution_count": null,
   "id": "5534f3f3-c1a9-4414-b0c8-80dd6f7ce6c7",
   "metadata": {},
   "outputs": [],
   "source": [
    "conn.close()"
   ]
  }
 ],
 "metadata": {
  "kernelspec": {
   "display_name": "Python 3 (ipykernel)",
   "language": "python",
   "name": "python3"
  },
  "language_info": {
   "codemirror_mode": {
    "name": "ipython",
    "version": 3
   },
   "file_extension": ".py",
   "mimetype": "text/x-python",
   "name": "python",
   "nbconvert_exporter": "python",
   "pygments_lexer": "ipython3",
   "version": "3.12.4"
  }
 },
 "nbformat": 4,
 "nbformat_minor": 5
}
